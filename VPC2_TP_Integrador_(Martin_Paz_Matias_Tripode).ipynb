{
  "cells": [
    {
      "cell_type": "markdown",
      "metadata": {
        "id": "NJWHjAloWHNM"
      },
      "source": [
        "# TP Integrador\n",
        "\n",
        "Detección de anomalías en escáneres de rayos X de equipajes mediante aprendizaje profundo. El modelo identifica 5 objetos potencialmente peligrosos: pistola, cuchillo, alicates, tijeras y llave inglesa, lo que facilita la vigilancia inteligente en los sistemas de seguridad de los aeropuertos.\n",
        "\n",
        "Data set: https://www.kaggle.com/datasets/orvile/x-ray-baggage-anomaly-detection/data\n",
        "\n",
        "## Integrantes:\n",
        "- Martin Paz\n",
        "- Matias Tripode"
      ]
    },
    {
      "cell_type": "markdown",
      "source": [
        "## 1) Cargar el Dataset"
      ],
      "metadata": {
        "id": "syK5XmKXH4M1"
      }
    },
    {
      "cell_type": "code",
      "source": [
        "!pip install torchmetrics\n",
        "!pip install --upgrade --no-cache-dir gdown\n",
        "\n",
        "# Clonar YOLOv5\n",
        "!git clone https://github.com/ultralytics/yolov5\n",
        "%cd yolov5\n",
        "%pip install -r requirements.txt\n",
        "\n",
        "%pip install albumentations opencv-python-headless\n"
      ],
      "metadata": {
        "collapsed": true,
        "id": "A6LdjQAiI4my"
      },
      "execution_count": null,
      "outputs": []
    },
    {
      "cell_type": "code",
      "execution_count": null,
      "metadata": {
        "id": "QCxrrCdVSKet"
      },
      "outputs": [],
      "source": [
        "import numpy as np\n",
        "import matplotlib.pyplot as plt\n",
        "import matplotlib.image as mpimg\n",
        "import random\n",
        "import os\n",
        "\n",
        "import torch\n",
        "import torchvision\n",
        "import torchsummary\n",
        "import torchmetrics\n",
        "from torch.utils.tensorboard import SummaryWriter"
      ]
    },
    {
      "cell_type": "code",
      "source": [
        "%cd /content/"
      ],
      "metadata": {
        "colab": {
          "base_uri": "https://localhost:8080/"
        },
        "id": "wHJBEqWIImCb",
        "outputId": "e750eb15-14b4-4298-ad19-28774d6fb09e"
      },
      "execution_count": null,
      "outputs": [
        {
          "output_type": "stream",
          "name": "stdout",
          "text": [
            "/content\n"
          ]
        }
      ]
    },
    {
      "cell_type": "code",
      "source": [
        "\n",
        "# https://drive.google.com/file/d/19N6Q7qRJMzfro47SBCc0PY8pUXnPZOhI/view?usp=drive_link\n",
        "\n",
        "# El ID sera: 19N6Q7qRJMzfro47SBCc0PY8pUXnPZOhI\n",
        "!gdown --id 19N6Q7qRJMzfro47SBCc0PY8pUXnPZOhI\n",
        "\n",
        "!unzip x-ray-baggage-anomaly-detection.zip > /dev/null"
      ],
      "metadata": {
        "colab": {
          "base_uri": "https://localhost:8080/"
        },
        "id": "unQWTHOpIdJ8",
        "outputId": "6d2909e6-7946-48d1-b92c-0c2b26c30da7"
      },
      "execution_count": null,
      "outputs": [
        {
          "output_type": "stream",
          "name": "stdout",
          "text": [
            "/usr/local/lib/python3.11/dist-packages/gdown/__main__.py:140: FutureWarning: Option `--id` was deprecated in version 4.3.1 and will be removed in 5.0. You don't need to pass it anymore to use a file ID.\n",
            "  warnings.warn(\n",
            "Downloading...\n",
            "From (original): https://drive.google.com/uc?id=19N6Q7qRJMzfro47SBCc0PY8pUXnPZOhI\n",
            "From (redirected): https://drive.google.com/uc?id=19N6Q7qRJMzfro47SBCc0PY8pUXnPZOhI&confirm=t&uuid=fe0e3e4a-136a-463a-a7ea-3553d080a1d1\n",
            "To: /content/x-ray-baggage-anomaly-detection.zip\n",
            "100% 140M/140M [00:01<00:00, 79.6MB/s]\n"
          ]
        }
      ]
    },
    {
      "cell_type": "markdown",
      "metadata": {
        "id": "Lent80MraN6-"
      },
      "source": [
        "## 2) EDA\n",
        "\n",
        "**Problema a resolver**\n",
        "Detección y clasificación de objetos potencialmente peligrosos: pistola, cuchillo, alicates, tijeras y llave ingles en imagenes de scanner a equipajes en aeropuertos. Las métricas a utilizar deben considerar tanto la precisión de la clase como la localización del objeto (bounding box).\n",
        "\n",
        "\n",
        "El analisis EDA se compone de los siguientes items:\n",
        "\n",
        "1. Entendiento la estructura del dataset\n",
        "2. Cuantas clases distintas tenemos?\n",
        "3. Visualización preliminar de algunos los datos\n",
        "4. Análisis de Distribución de Clases\n",
        "5. Análisis del tamaño de las imágenes\n",
        "6. Verificar si hay fotos sin etiquetas\n",
        "7. Análisis de Bounding Boxes por clase\n",
        "8. CONCLUSIONES\n"
      ]
    },
    {
      "cell_type": "markdown",
      "source": [
        "### 1). Entendiento la estructura del dataset\n",
        "\n",
        "Primero vamos a entder la extractura del dataset. Vemos que tiene tres carpetas `test`, `train` y `valid`. Dentro de cada una tienen `images` and labels.\n",
        "Como ejemplo:\n",
        "```\n",
        "train/\n",
        "├── images/\n",
        "│   └── 009000_jpg.rf.8c46e1aa5b46a0ad24ee4bcb2945d22a.jpg\n",
        "└── labels/\n",
        "    └── 009000_jpg.rf.8c46e1aa5b46a0ad24ee4bcb2945d22a.txt\n",
        "```\n",
        "\n",
        "Los archivos `labels` contienen una sola linea con formato:\n",
        " <class_id> <x_center> <y_center> <width> <height>\n",
        "\n",
        "Ejemplo:\n",
        "\n",
        "`2 0.6538461538461539 0.5420673076923077 0.0625 0.06610576923076923`\n",
        "\n",
        "\n",
        "\n"
      ],
      "metadata": {
        "id": "DXyczfCDE3x_"
      }
    },
    {
      "cell_type": "markdown",
      "source": [
        "### 2). Cuantas clases distintas tenemos?"
      ],
      "metadata": {
        "id": "DHjTi8GkE79T"
      }
    },
    {
      "cell_type": "code",
      "source": [
        "def analyze_classes(labels_folder):\n",
        "    class_ids = set()\n",
        "    for label_file in os.listdir(labels_folder):\n",
        "        with open(os.path.join(labels_folder, label_file), 'r') as f:\n",
        "            for line in f:\n",
        "                class_id = int(line.strip().split()[0])\n",
        "                class_ids.add(class_id)\n",
        "\n",
        "    print(f\"Identificador de clase: {sorted(class_ids)}\")\n",
        "    return sorted(class_ids)\n",
        "\n",
        "class_ids = analyze_classes('./train/labels')"
      ],
      "metadata": {
        "colab": {
          "base_uri": "https://localhost:8080/"
        },
        "id": "mtj3kpMEE-BV",
        "outputId": "914ffd75-1ce3-456a-c954-c1530ff280d6"
      },
      "execution_count": null,
      "outputs": [
        {
          "output_type": "stream",
          "name": "stdout",
          "text": [
            "Identificador de clase: [0, 1, 2, 3, 4]\n"
          ]
        }
      ]
    },
    {
      "cell_type": "markdown",
      "source": [
        "Vemos que hay **5 clases** diferentes indicadas con numeros: `0, 1, 2, 3, 4`"
      ],
      "metadata": {
        "id": "sB6J4AguFCg9"
      }
    },
    {
      "cell_type": "markdown",
      "source": [
        "### 3). Visualización preliminar de algunos los datos\n",
        "\n",
        "Vamos a visualizar una imagen de cada clase, tomada al azar, del conjunto de entrenamiento. Esto es para tener nocion de como lucen las imágenes de nuestro set de datos. Esto nos ayudará a saber que tipos de transformaciones serán más útiles cuando realicemos data augmentation."
      ],
      "metadata": {
        "id": "2im2N3ThFF0Q"
      }
    },
    {
      "cell_type": "code",
      "source": [
        "import os\n",
        "import cv2\n",
        "import random\n",
        "import matplotlib.pyplot as plt\n",
        "import matplotlib.patches as patches\n",
        "\n",
        "# Configuración de paths\n",
        "train_images_path = './train/images'\n",
        "train_labels_path = './train/labels'\n",
        "\n",
        "def graficar_ejemplos(train_images_path, train_labels_path):\n",
        "  # Crear un diccionario para organizar las imágenes por clase\n",
        "  class_images = {class_id: [] for class_id in range(5)}  # Asumiendo 5 clases (0-4)\n",
        "  # Leer todas las imágenes y organizarlas por clase\n",
        "  for label_file in os.listdir(train_labels_path):\n",
        "      if not label_file.endswith('.txt'):\n",
        "          continue\n",
        "\n",
        "      # Obtener el path de la imagen correspondiente\n",
        "      image_file = label_file.replace('.txt', '.jpg')\n",
        "      image_path = os.path.join(train_images_path, image_file)\n",
        "\n",
        "      # Leer las anotaciones y registrar todas las clases presentes\n",
        "      with open(os.path.join(train_labels_path, label_file), 'r') as f:\n",
        "          for line in f:\n",
        "              class_id = int(line.strip().split()[0])\n",
        "              if image_path not in class_images[class_id]:  # Evitar duplicados\n",
        "                  class_images[class_id].append(image_path)\n",
        "\n",
        "  # Configurar el gráfico\n",
        "  plt.figure(figsize=(80, 65))\n",
        "\n",
        "  # Para cada clase\n",
        "  for class_id in sorted(class_images.keys()):\n",
        "      # Tomar 4 imágenes aleatorias (o menos si no hay suficientes)\n",
        "      sample_images = random.sample(class_images[class_id], min(4, len(class_images[class_id])))\n",
        "\n",
        "      # Mostrar cada imagen\n",
        "      for i, image_path in enumerate(sample_images):\n",
        "          # Leer la imagen\n",
        "          img = cv2.imread(image_path)\n",
        "          img = cv2.cvtColor(img, cv2.COLOR_BGR2RGB)\n",
        "          height, width = img.shape[:2]\n",
        "\n",
        "          # Configurar subplot\n",
        "          ax = plt.subplot(5, 4, class_id*4 + i + 1)\n",
        "          plt.imshow(img)\n",
        "          plt.title(f'Clase {class_id}\\n{os.path.basename(image_path)[:10]}...')\n",
        "          plt.axis('off')\n",
        "\n",
        "          # Leer el archivo de anotaciones y dibujar los bounding boxes\n",
        "          label_path = image_path.replace('.jpg', '.txt').replace('images', 'labels')\n",
        "          if os.path.exists(label_path):\n",
        "              with open(label_path, 'r') as f:\n",
        "                  for line in f:\n",
        "                      parts = line.strip().split()\n",
        "                      current_class = int(parts[0])\n",
        "\n",
        "                      # Solo dibujar bounding boxes de la clase actual\n",
        "                      if current_class == class_id:\n",
        "                          x_center = float(parts[1]) * width\n",
        "                          y_center = float(parts[2]) * height\n",
        "                          box_width = float(parts[3]) * width\n",
        "                          box_height = float(parts[4]) * height\n",
        "\n",
        "                          # Calcular coordenadas del bounding box\n",
        "                          x_min = x_center - (box_width / 2)\n",
        "                          y_min = y_center - (box_height / 2)\n",
        "\n",
        "                          # Crear el rectángulo\n",
        "                          rect = patches.Rectangle(\n",
        "                              (x_min, y_min), box_width, box_height,\n",
        "                              linewidth=2, edgecolor='red', facecolor='none')\n",
        "                          ax.add_patch(rect)\n",
        "  plt.tight_layout()\n",
        "  plt.suptitle('Ejemplos de Imágenes por Clase con Bounding Boxes', y=1.02, fontsize=16)\n",
        "  plt.show()\n",
        "\n",
        "\n",
        "graficar_ejemplos(train_images_path, train_labels_path)"
      ],
      "metadata": {
        "id": "qa5dGCA3FLnQ"
      },
      "execution_count": null,
      "outputs": []
    },
    {
      "cell_type": "markdown",
      "source": [
        "### 4). Análisis de Distribución de Clases\n",
        "Ahora vamos a analizar la distribución de clases. Esto nos puede ayudar a identificar posibles desbalances entre clases."
      ],
      "metadata": {
        "id": "eAY2uvFXJn5U"
      }
    },
    {
      "cell_type": "code",
      "source": [
        "import os\n",
        "import matplotlib.pyplot as plt\n",
        "from collections import Counter\n",
        "\n",
        "def analizar_distribucion_clases(ruta_etiquetas):\n",
        "    # Contador para almacenar la frecuencia de cada clase\n",
        "    contador_clases = Counter()\n",
        "\n",
        "    # Recorrer todos los archivos de etiquetas\n",
        "    for archivo_etiqueta in os.listdir(ruta_etiquetas):\n",
        "        ruta_completa = os.path.join(ruta_etiquetas, archivo_etiqueta)\n",
        "\n",
        "        try:\n",
        "            with open(ruta_completa, 'r') as f:\n",
        "                for linea in f:\n",
        "                    # Cada línea representa un objeto en la imagen\n",
        "                    clase_id = int(linea.strip().split()[0])\n",
        "                    contador_clases[clase_id] += 1\n",
        "        except Exception as e:\n",
        "            print(f\"Error procesando {archivo_etiqueta}: {e}\")\n",
        "\n",
        "    return contador_clases\n",
        "\n",
        "# Ruta a las etiquetas de entrenamiento\n",
        "ruta_etiquetas_train = './train/labels'\n",
        "\n",
        "# Obtener distribución de clases\n",
        "distribucion = analizar_distribucion_clases(ruta_etiquetas_train)\n",
        "\n",
        "# Mostrar resultados\n",
        "print(\"Distribución de clases:\")\n",
        "for clase_id, conteo in sorted(distribucion.items()):\n",
        "    print(f\"Clase {clase_id}: {conteo} instancias\")\n",
        "\n",
        "print(\"----\")\n",
        "# Visualización\n",
        "plt.figure(figsize=(10, 6))\n",
        "plt.bar(distribucion.keys(), distribucion.values(), color='skyblue')\n",
        "plt.title('Distribución de Clases en el Conjunto de Entrenamiento')\n",
        "plt.xlabel('ID de Clase')\n",
        "plt.ylabel('Número de Instancias')\n",
        "plt.grid(axis='y', linestyle='--', alpha=0.7)\n",
        "\n",
        "# Si conocemos los nombres de las clases, podemos personalizar los labels\n",
        "# nombres_clases = {0: \"Normal\", 1: \"Arma\", 2: \"Explosivo\", ...}\n",
        "# plt.xticks(list(nombres_clases.values()))\n",
        "\n",
        "plt.show()"
      ],
      "metadata": {
        "colab": {
          "base_uri": "https://localhost:8080/",
          "height": 686
        },
        "id": "7uLxsSsNFUIz",
        "outputId": "634d6344-58b5-4bd8-afee-3d225286f40c"
      },
      "execution_count": null,
      "outputs": [
        {
          "output_type": "stream",
          "name": "stdout",
          "text": [
            "Distribución de clases:\n",
            "Clase 0: 1284 instancias\n",
            "Clase 1: 1393 instancias\n",
            "Clase 2: 698 instancias\n",
            "Clase 3: 1379 instancias\n",
            "Clase 4: 1427 instancias\n",
            "----\n"
          ]
        },
        {
          "output_type": "display_data",
          "data": {
            "text/plain": [
              "<Figure size 1000x600 with 1 Axes>"
            ],
            "image/png": "[encoded data removed]"
          },
          "metadata": {}
        }
      ]
    },
    {
      "cell_type": "markdown",
      "source": [
        "Vemos que Clase 2 tiene significativamente menos instancias (698) comparado con las demás. Las otras clases están relativamente balanceadas (1284-1427 instancias)"
      ],
      "metadata": {
        "id": "VjC2U7joFcZ9"
      }
    },
    {
      "cell_type": "markdown",
      "source": [
        "### 5). Análisis del tamaño de las imágenes"
      ],
      "metadata": {
        "id": "fVphrIViFhm7"
      }
    },
    {
      "cell_type": "code",
      "source": [
        "import os\n",
        "import cv2\n",
        "import numpy as np\n",
        "from collections import defaultdict\n",
        "import matplotlib.pyplot as plt\n",
        "\n",
        "def medir_las_fotos(carpeta_imagenes):\n",
        "    print(\"Chequeando los tamaños de las fotos...\")\n",
        "\n",
        "    tamaños = defaultdict(int)\n",
        "    problemas = []\n",
        "\n",
        "    for archivo in os.listdir(carpeta_imagenes):\n",
        "        try:\n",
        "            # Leemos la imagen como si fuera un chori\n",
        "            img = cv2.imread(os.path.join(carpeta_imagenes, archivo))\n",
        "            if img is None:\n",
        "                problemas.append(archivo)\n",
        "                continue\n",
        "\n",
        "            alto, ancho = img.shape[:2]\n",
        "            tamaños[(ancho, alto)] += 1\n",
        "\n",
        "        except Exception as e:\n",
        "            print(f\"Error con {archivo}: {e}\")\n",
        "            problemas.append(archivo)\n",
        "\n",
        "    # Mostramos los resultados\n",
        "    print(\"\\nResumen de tamaños:\")\n",
        "    for tam, cant in sorted(tamaños.items()):\n",
        "        print(f\"Tamaño {tam}: {cant} fotos ({cant/len(os.listdir(carpeta_imagenes))*100:.1f}%)\")\n",
        "\n",
        "    if problemas:\n",
        "        print(f\"\\n Error {len(problemas)} fotos (no se pudieron leer)\")\n",
        "\n",
        "    return tamaños, problemas\n",
        "\n",
        "carpeta_train = './train/images'\n",
        "tamaños, fotos_defectuosas = medir_las_fotos(carpeta_train)"
      ],
      "metadata": {
        "colab": {
          "base_uri": "https://localhost:8080/"
        },
        "id": "hAuXdS95Fkcg",
        "outputId": "9658cff4-7700-49f5-fb37-579bff17fdae"
      },
      "execution_count": null,
      "outputs": [
        {
          "output_type": "stream",
          "name": "stdout",
          "text": [
            "Chequeando los tamaños de las fotos...\n",
            "\n",
            "Resumen de tamaños:\n",
            "Tamaño (416, 416): 6181 fotos (100.0%)\n"
          ]
        }
      ]
    },
    {
      "cell_type": "markdown",
      "source": [
        "Vemos que todas las `6181` (1284 + 1393+ 698 + 1379+ 1427) fotos tienen el mismo tamaño ` (416, 416)`"
      ],
      "metadata": {
        "id": "GJdmBR4IFm4V"
      }
    },
    {
      "cell_type": "markdown",
      "source": [
        "### 6). Verificar si hay fotos sin etiquetas"
      ],
      "metadata": {
        "id": "Jsh-Bq2JFr3d"
      }
    },
    {
      "cell_type": "code",
      "source": [
        "def comparar_con_y_sin_anotaciones(carpeta_imagenes, carpeta_etiquetas, ejemplos=5):\n",
        "    print(\"\\n Comparando fotos con y sin anotaciones...\")\n",
        "\n",
        "    # Buscamos fotos que tengan y no tengan anotaciones\n",
        "    fotos_con_anotaciones = []\n",
        "    fotos_sin_anotaciones = []\n",
        "\n",
        "    todas_fotos = set(os.listdir(carpeta_imagenes))\n",
        "    fotos_etiquetadas = set([f.replace('.txt', '.jpg') for f in os.listdir(carpeta_etiquetas)])\n",
        "\n",
        "    fotos_sin_anotaciones = list(todas_fotos - fotos_etiquetadas)\n",
        "    fotos_con_anotaciones = list(fotos_etiquetadas)\n",
        "\n",
        "    print(f\"Total fotos: {len(todas_fotos)}\")\n",
        "    print(f\"Fotos con anotaciones: {len(fotos_con_anotaciones)}\")\n",
        "    print(f\"Fotos sin anotaciones: {len(fotos_sin_anotaciones)}\")\n",
        "\n",
        "carpeta_etiquetas = './train/labels'\n",
        "comparar_con_y_sin_anotaciones(carpeta_train, carpeta_etiquetas)"
      ],
      "metadata": {
        "colab": {
          "base_uri": "https://localhost:8080/"
        },
        "id": "D2TUtLrMFt8q",
        "outputId": "5a516d80-389e-4868-9163-e3d17dbb9d21"
      },
      "execution_count": null,
      "outputs": [
        {
          "output_type": "stream",
          "name": "stdout",
          "text": [
            "\n",
            " Comparando fotos con y sin anotaciones...\n",
            "Total fotos: 6181\n",
            "Fotos con anotaciones: 6181\n",
            "Fotos sin anotaciones: 0\n"
          ]
        }
      ]
    },
    {
      "cell_type": "markdown",
      "source": [
        "Vemos que todas las fotos tienen sus etiquetas!"
      ],
      "metadata": {
        "id": "GiEGCWYuFwiT"
      }
    },
    {
      "cell_type": "markdown",
      "source": [
        "### 7) Análisis de Bounding Boxes por Clase\n",
        "\n",
        "Con este análisis buscamos: Saber si hay características que nos pueda ayudar a distinguir objetos dependiendo de las clases.\n",
        "\n",
        "Para cada clase y los bounding boxes queremos entender:\n",
        "\n",
        "- Proporción de objetos pequeños (área del box < 1% del área de la imagen)\n",
        "- Aspect ratios atípicos (ancho/alto < 0.2 o > 5.0)\n",
        "- Promedio de objetos peligrosos por imagen"
      ],
      "metadata": {
        "id": "q6F7QMw0FzBe"
      }
    },
    {
      "cell_type": "code",
      "source": [
        "from glob import glob\n",
        "import os\n",
        "from collections import defaultdict\n",
        "import numpy as np\n",
        "\n",
        "image_paths = sorted(glob('./train/images/*.jpg'))\n",
        "label_paths = sorted(glob('./train/labels/*.txt'))\n",
        "\n",
        "# Inicialización\n",
        "small_object_threshold = 0.01  # 1%\n",
        "aspect_ratio_threshold_low = 0.2\n",
        "aspect_ratio_threshold_high = 5.0\n",
        "\n",
        "class_stats = {\n",
        "    i: {\n",
        "        \"total\": 0,\n",
        "        \"small\": 0,\n",
        "        \"weird_aspect_ratio\": 0,\n",
        "        \"images\": set()\n",
        "    } for i in range(5)\n",
        "}\n",
        "\n",
        "# Total imágenes con al menos un objeto\n",
        "images_with_objects = 0\n",
        "total_objects = 0\n",
        "\n",
        "for label_path in label_paths:\n",
        "    with open(label_path, 'r') as f:\n",
        "        lines = f.readlines()\n",
        "        if not lines:\n",
        "            continue  # sin objetos\n",
        "        images_with_objects += 1\n",
        "\n",
        "        for line in lines:\n",
        "            try:\n",
        "                class_id, x_c, y_c, w_box, h_box = map(float, line.strip().split())\n",
        "                class_id = int(class_id)\n",
        "            except:\n",
        "                continue\n",
        "\n",
        "            area = w_box * h_box\n",
        "            aspect_ratio = w_box / h_box if h_box > 0 else 0\n",
        "\n",
        "            class_stats[class_id][\"total\"] += 1\n",
        "            total_objects += 1\n",
        "\n",
        "            if area < small_object_threshold:\n",
        "                class_stats[class_id][\"small\"] += 1\n",
        "\n",
        "            if aspect_ratio < aspect_ratio_threshold_low or aspect_ratio > aspect_ratio_threshold_high:\n",
        "                class_stats[class_id][\"weird_aspect_ratio\"] += 1\n",
        "\n",
        "            # Registrar que esta clase aparece en esta imagen\n",
        "            class_stats[class_id][\"images\"].add(label_path)\n",
        "\n",
        "# Mostrar resultados\n",
        "for class_id, stats in class_stats.items():\n",
        "    total = stats[\"total\"]\n",
        "    if total == 0:\n",
        "        print(f\"Clase {class_id}: sin objetos etiquetados.\\n\")\n",
        "        continue\n",
        "\n",
        "    small_pct = 100 * stats[\"small\"] / total\n",
        "    weird_ar_pct = 100 * stats[\"weird_aspect_ratio\"] / total\n",
        "    avg_per_image = total / len(stats[\"images\"])\n",
        "\n",
        "    print(f\"Clase {class_id}\")\n",
        "    print(f\"- Total objetos: {total}\")\n",
        "    print(f\"- % Objetos pequeños (<1%): {small_pct:.2f}%\")\n",
        "    print(f\"- % Aspect ratio atípico: {weird_ar_pct:.2f}%\")\n",
        "    print(f\"- Promedio objetos por imagen (con esa clase): {avg_per_image:.2f}\")\n",
        "    print()\n",
        "\n",
        "print(f\"Promedio general de objetos peligrosos por imagen: {total_objects / images_with_objects:.2f}\")\n"
      ],
      "metadata": {
        "colab": {
          "base_uri": "https://localhost:8080/"
        },
        "id": "FEWCUCZlF6SA",
        "outputId": "4645c892-e1f3-44e8-913e-fce69c65c6b8"
      },
      "execution_count": null,
      "outputs": [
        {
          "output_type": "stream",
          "name": "stdout",
          "text": [
            "Clase 0\n",
            "- Total objetos: 1284\n",
            "- % Objetos pequeños (<1%): 19.55%\n",
            "- % Aspect ratio atípico: 0.78%\n",
            "- Promedio objetos por imagen (con esa clase): 1.00\n",
            "\n",
            "Clase 1\n",
            "- Total objetos: 1393\n",
            "- % Objetos pequeños (<1%): 80.62%\n",
            "- % Aspect ratio atípico: 1.79%\n",
            "- Promedio objetos por imagen (con esa clase): 1.00\n",
            "\n",
            "Clase 2\n",
            "- Total objetos: 698\n",
            "- % Objetos pequeños (<1%): 67.91%\n",
            "- % Aspect ratio atípico: 10.32%\n",
            "- Promedio objetos por imagen (con esa clase): 1.00\n",
            "\n",
            "Clase 3\n",
            "- Total objetos: 1379\n",
            "- % Objetos pequeños (<1%): 49.75%\n",
            "- % Aspect ratio atípico: 5.73%\n",
            "- Promedio objetos por imagen (con esa clase): 1.00\n",
            "\n",
            "Clase 4\n",
            "- Total objetos: 1427\n",
            "- % Objetos pequeños (<1%): 78.70%\n",
            "- % Aspect ratio atípico: 0.21%\n",
            "- Promedio objetos por imagen (con esa clase): 1.00\n",
            "\n",
            "Promedio general de objetos peligrosos por imagen: 1.00\n"
          ]
        }
      ]
    },
    {
      "cell_type": "markdown",
      "source": [
        "\n",
        "\n",
        "**7.1) Objetos pequeños (<1%)**\n",
        "- La Clase 0 tiene solo 19.55% de objetos pequeños.\n",
        "- La Clase 1 tiene 80.62% de objetos pequeños.\n",
        "- La Clase 2 también es bastante alta: 67.91%.\n",
        "- La Clase 3 tiene solo 5.73% objetos pequeños.\n",
        "- La Clase 4 tiene 78.70% de objetos pequeños.\n",
        "\n",
        "`Conclusion`\n",
        "Las clases 1, 2 y 4 tienen un alto porcentaje de objetos pequeños. Esto indicaría que deberíamos aplicar algún escalado que mejore la detección de objetos pequeños para estas clases.\n",
        "\n",
        "**7.2) Aspect ratios atípicos (<0.2 o >5)**\n",
        "La Clase 2 destaca con 10.32% de aspect ratios extremos → tal vez herramientas largas o estrechas. El resto está bastante bajo, especialmente Clase 4: solo 0.21%.\n",
        "\n",
        "`Conclusion`\n",
        "No vemos nada relevante que nos ayude a distinguir objetos de una clase dado aspect ratios atípicos.\n",
        "\n",
        "\n",
        "**7.3) Promedio de objetos por imagen = 1.00**\n",
        "Hay exactamente un solo objeto por imagen.\n",
        "`Conclusion**\n",
        "Solo tenemos que enfocarnos en detectar un elemento peligroso por imagen.\n"
      ],
      "metadata": {
        "id": "Yf87XxplF9qx"
      }
    },
    {
      "cell_type": "markdown",
      "source": [
        "### 8). CONCLUSIONES\n",
        "\n",
        "- `Distribución de las clases`: Vemos que Clase 2 tiene significativamente menos instancias (698) comparado con las demás. Las otras clases están relativamente balanceadas (1284-1427 instancias). Deberíamos aplicar data augmentation a la clase 2 para que no esté desbalanceada con respecto al resto de clases.\n",
        "- `Tamaño de las imágenes`: Vemos que todas las 6181 imágenes tienen el mismo tamaño (416, 416)\n",
        "- Aplicar un escalado para detectar objetos pequeños en las clases 1, 2 y 4.\n",
        "\n"
      ],
      "metadata": {
        "id": "gvwkYE9dGCrv"
      }
    },
    {
      "cell_type": "markdown",
      "source": [
        "--------------------------"
      ],
      "metadata": {
        "id": "8VQ8VC0eGD3p"
      }
    },
    {
      "cell_type": "markdown",
      "source": [
        "## 3) Basedline YOLO5s y YOLO5m\n",
        "\n",
        "Las dos arquitecturas elegidas para realizar el baseline son: `Yolo5s` y `Yolo5m`.\n",
        "\n",
        "- Vamos a aumentar la clase dos llevandola al doble de imanges, esto va a balancearla con respecto a las otras clases.\n",
        "- Vamos a ejecutar `50 epochs`.\n",
        "- Por cada modelo y cada clase las `metricas` que vamos a considerar van a ser:\n",
        "  - `mAP50` y `mAP50-95`\n",
        "  - `Precision` y `Recall`\n",
        "\n"
      ],
      "metadata": {
        "id": "JhyDSWvBGH37"
      }
    },
    {
      "cell_type": "markdown",
      "metadata": {
        "id": "AZ9zzIzA3r-L"
      },
      "source": [
        "## YOLOv5"
      ]
    },
    {
      "cell_type": "markdown",
      "metadata": {
        "id": "NI_-LEM9GuK1"
      },
      "source": [
        "## Aplicar Augmentation solo a la clase 2\n",
        "\n",
        "Vamos a realizar augmentation solo a la clase 2, ya que es la unica desbalanceada.\n",
        "Realizaremos un augmentation por cada imagen eso nos llevara a balancearla con respecto al resto, quedan asi todas las clases con ~1200 imagenes cada una.\n",
        "\n",
        "La augmentation aplicada es:\n",
        "```\n",
        "transform = A.Compose([\n",
        "        A.HorizontalFlip(p=0.5), # Voltea la imagen horizontalmente (espejo).\n",
        "        A.RandomScale(scale_limit=0.2, p=0.5), #  Escala la imagen aleatoriamente entre ±20% de su tamaño original.\n",
        "        A.Rotate(limit=10, p=0.3), # Rota la imagen hasta ±10 grados.\n",
        "        A.RandomBrightnessContrast(p=0.3), # Ajusta brillo y contraste aleatoriamente (30% de probabilidad).\n",
        "        A.Resize(height=416, width=416), # Redimensiona la imagen a 416x416\n",
        "    ], bbox_params=A.BboxParams(format='yolo', label_fields=['class_labels']))\n",
        "```"
      ]
    },
    {
      "cell_type": "code",
      "execution_count": null,
      "metadata": {
        "colab": {
          "base_uri": "https://localhost:8080/"
        },
        "id": "rmid1AvaH2QO",
        "outputId": "a8b9a7b2-e04e-4922-c476-e9727341bdc6"
      },
      "outputs": [
        {
          "output_type": "stream",
          "name": "stdout",
          "text": [
            "/content\n",
            "README.dataset.txt   test\t      valid\n",
            "README.roboflow.txt  train\t      x-ray-baggage-anomaly-detection.zip\n",
            "sample_data\t     train_augmented  yolov5\n"
          ]
        }
      ],
      "source": [
        "%cd /content/\n",
        "!ls"
      ]
    },
    {
      "cell_type": "code",
      "source": [
        "# Eliminar data aumentada\n",
        "!rm -rf ./train_augmented/"
      ],
      "metadata": {
        "id": "sZE6IjE_l62x"
      },
      "execution_count": null,
      "outputs": []
    },
    {
      "cell_type": "code",
      "execution_count": null,
      "metadata": {
        "id": "Wjd7t-UEGwpW"
      },
      "outputs": [],
      "source": [
        "import os\n",
        "import cv2\n",
        "import albumentations as A\n",
        "import shutil\n",
        "import random\n",
        "import numpy as np\n",
        "import albumentations as A\n",
        "\n",
        "def augment_class2_images(image_dir, label_dir, output_img_dir, output_lbl_dir):\n",
        "    os.makedirs(output_img_dir, exist_ok=True)\n",
        "    os.makedirs(output_lbl_dir, exist_ok=True)\n",
        "\n",
        "    # Fijar la semilla, para que siempre genere las mismas imagenes.\n",
        "    seed = 42\n",
        "    random.seed(seed)\n",
        "    np.random.seed(seed)\n",
        "\n",
        "    transform = A.Compose([\n",
        "        A.HorizontalFlip(p=0.5), # Voltea la imagen horizontalmente (espejo).\n",
        "        A.RandomScale(scale_limit=0.5, p=0.7), #  Escala la imagen aleatoriamente entre ±50% de su tamaño original.\n",
        "        A.Rotate(limit=45, p=0.7), # Rota la imagen hasta ±45 grados.\n",
        "        A.RandomBrightnessContrast(p=0.3), # Ajusta brillo y contraste aleatoriamente (30% de probabilidad).\n",
        "        A.Resize(height=416, width=416), # Redimensiona la imagen a 416x416\n",
        "        A.GridDropout(ratio=0.1, p=0.3),  # Oclusiones leves\n",
        "    ], bbox_params=A.BboxParams(format='yolo', label_fields=['class_labels']))\n",
        "\n",
        "    for filename in os.listdir(label_dir):\n",
        "        if not filename.endswith('.txt'):\n",
        "            continue\n",
        "\n",
        "        label_path = os.path.join(label_dir, filename)\n",
        "        image_name = filename.replace('.txt', '.jpg')\n",
        "        image_path = os.path.join(image_dir, image_name)\n",
        "\n",
        "        if not os.path.exists(image_path):\n",
        "            continue\n",
        "\n",
        "        with open(label_path, 'r') as f:\n",
        "            lines = f.readlines()\n",
        "\n",
        "        classes = [int(line.strip().split()[0]) for line in lines]\n",
        "        if not all(c == 2 for c in classes):  # filtramos por clase 2\n",
        "            continue\n",
        "\n",
        "        bboxes = [list(map(float, line.strip().split()[1:])) for line in lines]\n",
        "        class_labels = ['2'] * len(bboxes)\n",
        "\n",
        "        image = cv2.imread(image_path)\n",
        "        h, w = image.shape[:2]\n",
        "\n",
        "        try:\n",
        "            augmented = transform(image=image, bboxes=bboxes, class_labels=class_labels)\n",
        "        except:\n",
        "            print(f'Error augmenting {image_path}')\n",
        "            continue\n",
        "\n",
        "        new_img = augmented['image']\n",
        "        new_bboxes = augmented['bboxes']\n",
        "\n",
        "        new_img_name = image_name.replace('.jpg', '_aug.jpg')\n",
        "        new_lbl_name = filename.replace('.txt', '_aug.txt')\n",
        "\n",
        "        cv2.imwrite(os.path.join(output_img_dir, new_img_name), new_img)\n",
        "\n",
        "        with open(os.path.join(output_lbl_dir, new_lbl_name), 'w') as f:\n",
        "            for box in new_bboxes:\n",
        "                f.write(f\"2 {' '.join(map(str, box))}\\n\")\n",
        "\n"
      ]
    },
    {
      "cell_type": "code",
      "execution_count": null,
      "metadata": {
        "colab": {
          "base_uri": "https://localhost:8080/"
        },
        "id": "MAOh8jRR2MAD",
        "outputId": "cebd0130-35a4-4e14-882e-115363f0a4fb"
      },
      "outputs": [
        {
          "output_type": "stream",
          "name": "stdout",
          "text": [
            "/content\n"
          ]
        }
      ],
      "source": [
        "%cd /content/\n",
        "\n"
      ]
    },
    {
      "cell_type": "code",
      "execution_count": null,
      "metadata": {
        "id": "UWUkPNZBHmYo"
      },
      "outputs": [],
      "source": [
        "augment_class2_images(\n",
        "    image_dir='/content/train/images/',\n",
        "    label_dir='/content/train/labels/',\n",
        "    output_img_dir='/content/train_augmented/images/',\n",
        "    output_lbl_dir='/content/train_augmented/labels/'\n",
        ")"
      ]
    },
    {
      "cell_type": "code",
      "execution_count": null,
      "metadata": {
        "id": "ODSuw_SyIxCp"
      },
      "outputs": [],
      "source": [
        "# COPIAR LAS IMAGENES AUTMENTADAS\n",
        "!mv ./train_augmented/images/* ./train/images/\n",
        "!mv ./train_augmented/labels/* ./train/labels/\n"
      ]
    },
    {
      "cell_type": "markdown",
      "metadata": {
        "id": "Oji8rL0MZMQd"
      },
      "source": [
        "## Graficar Imagenes aumentadas"
      ]
    },
    {
      "cell_type": "code",
      "execution_count": null,
      "metadata": {
        "id": "OaLwKP00m2p1"
      },
      "outputs": [],
      "source": [
        "import os\n",
        "import cv2\n",
        "import matplotlib.pyplot as plt\n",
        "\n",
        "# Ruta a tus imágenes y etiquetas aumentadas\n",
        "aug_img_dir = '/content/train_augmented/images/'\n",
        "aug_lbl_dir = '/content/train_augmented/labels/'\n",
        "\n",
        "# Obtener los primeros 5 archivos de imagen\n",
        "image_files = [f for f in os.listdir(aug_img_dir) if f.endswith('.jpg') or f.endswith('.png')][:3]\n",
        "\n",
        "def plot_image_with_boxes(img_path, label_path):\n",
        "    img = cv2.imread(img_path)\n",
        "    img = cv2.cvtColor(img, cv2.COLOR_BGR2RGB)\n",
        "    h, w, _ = img.shape\n",
        "\n",
        "    if os.path.exists(label_path):\n",
        "        with open(label_path, 'r') as f:\n",
        "            for line in f:\n",
        "                cls, xc, yc, bw, bh = map(float, line.strip().split())\n",
        "                # Convertir coordenadas normalizadas a píxeles\n",
        "                x1 = int((xc - bw/2) * w)\n",
        "                y1 = int((yc - bh/2) * h)\n",
        "                x2 = int((xc + bw/2) * w)\n",
        "                y2 = int((yc + bh/2) * h)\n",
        "                cv2.rectangle(img, (x1, y1), (x2, y2), (255, 0, 0), 2)\n",
        "                cv2.putText(img, str(int(cls)), (x1, y1-5), cv2.FONT_HERSHEY_SIMPLEX, 0.6, (0, 255, 0), 2)\n",
        "    return img\n",
        "\n",
        "# Mostrar imágenes\n",
        "plt.figure(figsize=(16, 10))\n",
        "for idx, img_file in enumerate(image_files):\n",
        "    img_path = os.path.join(aug_img_dir, img_file)\n",
        "    label_path = os.path.join(aug_lbl_dir, img_file.replace('.jpg', '.txt').replace('.png', '.txt'))\n",
        "    img = plot_image_with_boxes(img_path, label_path)\n",
        "    plt.subplot(1, 3, idx+1)\n",
        "    plt.imshow(img)\n",
        "    plt.axis('off')\n",
        "    plt.title(img_file[:15] + '...')\n",
        "plt.tight_layout()\n",
        "plt.show()\n"
      ]
    },
    {
      "cell_type": "markdown",
      "metadata": {
        "id": "BxQBj_-Up7bO"
      },
      "source": [
        "### Copiar imagenes aumentadas al dataset de entrenamiento"
      ]
    },
    {
      "cell_type": "code",
      "execution_count": null,
      "metadata": {
        "id": "lp1z5mPEfIrv",
        "colab": {
          "base_uri": "https://localhost:8080/"
        },
        "outputId": "8ea271a9-28a3-426f-d99f-02997a9045fb"
      },
      "outputs": [
        {
          "output_type": "stream",
          "name": "stdout",
          "text": [
            "mv: cannot stat './train/images/train_augmented/*': No such file or directory\n",
            "mv: cannot stat './train/labels/train_augmented/*': No such file or directory\n"
          ]
        }
      ],
      "source": [
        "# Por ahora no vamos a utilizar augmentation\n",
        "!mv ./train/images/train_augmented/* ./train/images/\n",
        "!mv ./train/labels/train_augmented/* ./train/labels/\n"
      ]
    },
    {
      "cell_type": "code",
      "execution_count": null,
      "metadata": {
        "id": "ZOoCUGgbnWIu"
      },
      "outputs": [],
      "source": [
        "!mv data.yaml ./yolov5"
      ]
    },
    {
      "cell_type": "code",
      "execution_count": null,
      "metadata": {
        "id": "aJVWhrTKE1zZ",
        "colab": {
          "base_uri": "https://localhost:8080/"
        },
        "outputId": "56df0b00-1f9d-4424-bf8d-88ae2038f292"
      },
      "outputs": [
        {
          "output_type": "stream",
          "name": "stdout",
          "text": [
            "/content/yolov5\n"
          ]
        }
      ],
      "source": [
        "%cd yolov5"
      ]
    },
    {
      "cell_type": "code",
      "execution_count": null,
      "metadata": {
        "id": "FvkQkzz3JtFA",
        "colab": {
          "base_uri": "https://localhost:8080/"
        },
        "outputId": "350dd85d-588d-400f-9eba-9a5405af8111"
      },
      "outputs": [
        {
          "output_type": "stream",
          "name": "stdout",
          "text": [
            "benchmarks.py\t data.yaml   models\t      requirements.txt\tutils\n",
            "CITATION.cff\t detect.py   __pycache__      runs\t\tval.py\n",
            "classify\t export.py   pyproject.toml   segment\t\tyolov5m.pt\n",
            "CONTRIBUTING.md  hubconf.py  README.md\t      train.py\n",
            "data\t\t LICENSE     README.zh-CN.md  tutorial.ipynb\n"
          ]
        }
      ],
      "source": [
        "!ls"
      ]
    },
    {
      "cell_type": "markdown",
      "source": [
        "### Ejecutar YOLO5s"
      ],
      "metadata": {
        "id": "Q4580J91O2Yo"
      }
    },
    {
      "cell_type": "code",
      "execution_count": null,
      "metadata": {
        "id": "yeOsPn2dqoRF"
      },
      "outputs": [],
      "source": [
        "!python train.py \\\n",
        "  --img 416 \\\n",
        "  --batch 32 \\\n",
        "  --epochs 50 \\\n",
        "  --data data.yaml \\\n",
        "  --cfg models/yolov5s.yaml \\\n",
        "  --weights yolov5s.pt \\\n",
        "  --name yolov5s_augmented_clase2_batch32_epoch50_v1 \\\n",
        "  --cache"
      ]
    },
    {
      "cell_type": "markdown",
      "source": [
        "### Ejecutar YOLOR5m"
      ],
      "metadata": {
        "id": "JMdgyvrfO6hl"
      }
    },
    {
      "cell_type": "code",
      "source": [
        "!python train.py \\\n",
        "  --img 416 \\\n",
        "  --batch 32 \\\n",
        "  --epochs 50 \\\n",
        "  --data data.yaml \\\n",
        "  --weights yolov5m.pt \\\n",
        "  --cfg models/yolov5m.yaml \\\n",
        "  --cache \\\n",
        "  --name yolov5m_augmented_clase2_batch32_epoch50_exp5"
      ],
      "metadata": {
        "id": "OVBaCwQBO8sJ"
      },
      "execution_count": null,
      "outputs": []
    },
    {
      "cell_type": "markdown",
      "metadata": {
        "id": "Pd1sdH_vOxvC"
      },
      "source": [
        "--------------------------------------------------"
      ]
    },
    {
      "cell_type": "markdown",
      "metadata": {
        "id": "2YRftlo9h9qA"
      },
      "source": [
        "### Evaluar Modelos"
      ]
    },
    {
      "cell_type": "markdown",
      "source": [
        "Evaluar `YOLO5m`"
      ],
      "metadata": {
        "id": "xf33rn9VuZTU"
      }
    },
    {
      "cell_type": "code",
      "execution_count": null,
      "metadata": {
        "id": "eBIkp-1viB4x",
        "colab": {
          "base_uri": "https://localhost:8080/"
        },
        "outputId": "f4531b63-a86a-4606-f57a-0c52c44b0172"
      },
      "outputs": [
        {
          "output_type": "stream",
          "name": "stdout",
          "text": [
            "\u001b[34m\u001b[1mval: \u001b[0mdata=data.yaml, weights=['runs/train/yolov5m_augmented_clase2_batch32_epoch50_exp2/weights/best.pt'], batch_size=32, imgsz=416, conf_thres=0.001, iou_thres=0.6, max_det=300, task=val, device=, workers=8, single_cls=False, augment=False, verbose=False, save_txt=False, save_hybrid=False, save_conf=False, save_json=False, project=runs/val, name=exp, exist_ok=False, half=False, dnn=False\n",
            "YOLOv5 🚀 v7.0-422-g2540fd4c Python-3.11.13 torch-2.6.0+cu124 CUDA:0 (Tesla T4, 15095MiB)\n",
            "\n",
            "Fusing layers... \n",
            "YOLOv5m summary: 212 layers, 20869098 parameters, 0 gradients, 47.9 GFLOPs\n",
            "\u001b[34m\u001b[1mval: \u001b[0mScanning /content/valid/labels.cache... 1766 images, 0 backgrounds, 0 corrupt: 100% 1766/1766 [00:00<?, ?it/s]\n",
            "                 Class     Images  Instances          P          R      mAP50   mAP50-95: 100% 56/56 [00:19<00:00,  2.80it/s]\n",
            "                   all       1766       1766      0.894      0.856      0.879      0.386\n",
            "                     0       1766        391      0.978       0.98      0.981      0.507\n",
            "                     1       1766        389      0.892      0.915      0.914      0.385\n",
            "                     2       1766        225       0.83      0.628       0.72      0.268\n",
            "                     3       1766        366      0.851      0.828      0.854      0.381\n",
            "                     4       1766        395       0.92      0.928      0.925      0.389\n",
            "Speed: 0.1ms pre-process, 6.4ms inference, 1.0ms NMS per image at shape (32, 3, 416, 416)\n",
            "Results saved to \u001b[1mruns/val/exp3\u001b[0m\n"
          ]
        }
      ],
      "source": [
        "!python val.py \\\n",
        "  --weights runs/train/yolov5m_augmented_clase2_batch32_epoch50_exp2/weights/best.pt \\\n",
        "  --data data.yaml \\\n",
        "  --img 416 \\\n",
        "  --task val"
      ]
    },
    {
      "cell_type": "markdown",
      "source": [
        "Evaluar `YOLO5s`"
      ],
      "metadata": {
        "id": "1MBgBvQCw3da"
      }
    },
    {
      "cell_type": "code",
      "source": [
        "!python val.py \\\n",
        "  --weights runs/train/yolov5s_augmented_clase2_batch32_epoch50_v1/weights/best.pt \\\n",
        "  --data data.yaml \\\n",
        "  --img 416 \\\n",
        "  --task val"
      ],
      "metadata": {
        "colab": {
          "base_uri": "https://localhost:8080/"
        },
        "id": "Wn7sBq1_w5Na",
        "outputId": "9a53c871-2725-4eff-d94d-94a92bb77e50"
      },
      "execution_count": null,
      "outputs": [
        {
          "output_type": "stream",
          "name": "stdout",
          "text": [
            "\u001b[34m\u001b[1mval: \u001b[0mdata=data.yaml, weights=['runs/train/yolov5s_augmented_clase2_batch32_epoch50_v1/weights/best.pt'], batch_size=32, imgsz=416, conf_thres=0.001, iou_thres=0.6, max_det=300, task=val, device=, workers=8, single_cls=False, augment=False, verbose=False, save_txt=False, save_hybrid=False, save_conf=False, save_json=False, project=runs/val, name=exp, exist_ok=False, half=False, dnn=False\n",
            "YOLOv5 🚀 v7.0-422-g2540fd4c Python-3.11.13 torch-2.6.0+cu124 CUDA:0 (Tesla T4, 15095MiB)\n",
            "\n",
            "Fusing layers... \n",
            "YOLOv5s summary: 157 layers, 7023610 parameters, 0 gradients, 15.8 GFLOPs\n",
            "\u001b[34m\u001b[1mval: \u001b[0mScanning /content/valid/labels.cache... 1766 images, 0 backgrounds, 0 corrupt: 100% 1766/1766 [00:00<?, ?it/s]\n",
            "                 Class     Images  Instances          P          R      mAP50   mAP50-95: 100% 56/56 [00:13<00:00,  4.00it/s]\n",
            "                   all       1766       1766      0.871      0.836      0.858      0.368\n",
            "                     0       1766        391      0.968      0.977      0.974      0.499\n",
            "                     1       1766        389      0.874      0.915      0.915      0.374\n",
            "                     2       1766        225      0.779      0.565      0.653      0.236\n",
            "                     3       1766        366      0.812      0.791      0.822      0.356\n",
            "                     4       1766        395      0.919      0.929      0.923      0.377\n",
            "Speed: 0.1ms pre-process, 2.5ms inference, 1.2ms NMS per image at shape (32, 3, 416, 416)\n",
            "Results saved to \u001b[1mruns/val/exp2\u001b[0m\n"
          ]
        }
      ]
    },
    {
      "cell_type": "markdown",
      "metadata": {
        "id": "-444pbvAuUT5"
      },
      "source": [
        "### TensorBoard: comparar gráficamente muchos experimentos"
      ]
    },
    {
      "cell_type": "code",
      "execution_count": null,
      "metadata": {
        "id": "-KPpZvIPuWwP"
      },
      "outputs": [],
      "source": [
        "%load_ext tensorboard\n",
        "%tensorboard --logdir runs/train\n"
      ]
    },
    {
      "cell_type": "markdown",
      "metadata": {
        "id": "G6tR4p96kK5P"
      },
      "source": [
        "### Ver Predicciones con Imagenes Reales"
      ]
    },
    {
      "cell_type": "code",
      "source": [
        "%cd ./yolov5"
      ],
      "metadata": {
        "colab": {
          "base_uri": "https://localhost:8080/"
        },
        "id": "lFEYu-oZ6tjg",
        "outputId": "b30a268d-efed-4527-8413-a99b5375296f"
      },
      "execution_count": null,
      "outputs": [
        {
          "output_type": "stream",
          "name": "stdout",
          "text": [
            "/content/yolov5\n"
          ]
        }
      ]
    },
    {
      "cell_type": "code",
      "execution_count": null,
      "metadata": {
        "id": "Aqp8Q1axkOZ0"
      },
      "outputs": [],
      "source": [
        "!python detect.py \\\n",
        "  --weights runs/train/yolov5m_augmented_clase2_batch32_epoch50_v1_1_50/weights/best.pt \\\n",
        "  --img 416 \\\n",
        "  --conf 0.25 \\\n",
        "  --source ../test/images"
      ]
    },
    {
      "cell_type": "markdown",
      "metadata": {
        "id": "YjOHKudEk1Ve"
      },
      "source": [
        "### Mostrar las primeras 5 imagenes con predicciones"
      ]
    },
    {
      "cell_type": "code",
      "execution_count": null,
      "metadata": {
        "id": "-Sbohewpk6Wr"
      },
      "outputs": [],
      "source": [
        "import os\n",
        "from IPython.display import Image, display\n",
        "\n",
        "# Muestra las primeras 5 imágenes con predicciones\n",
        "for filename in os.listdir('runs/detect/exp3')[:50]:\n",
        "    display(Image(filename=f\"runs/detect/exp3/{filename}\"))"
      ]
    },
    {
      "cell_type": "markdown",
      "metadata": {
        "id": "YmEa5AS_hLEQ"
      },
      "source": [
        "### Funciones para copiar directorios y archivos desde y hace google-drive"
      ]
    },
    {
      "cell_type": "code",
      "execution_count": null,
      "metadata": {
        "id": "VEI0J9Rmc-D-"
      },
      "outputs": [],
      "source": [
        "def copy_directorio(source_path, destination_path):\n",
        "  if not os.path.exists(destination_path):\n",
        "        os.makedirs(destination_path)\n",
        "\n",
        "  if os.path.exists(source_path):\n",
        "      try:\n",
        "        print(f\"✔ Inicio copiado en: {destination_path}\")\n",
        "        shutil.copytree(source_path, destination_path, dirs_exist_ok=True) # copia directorios\n",
        "        print(f\"✔ Checkpoints guardados en: {destination_path}\")\n",
        "      except FileExistsError:\n",
        "        print(f\"No se encontró el directorio: {source_path}\")\n",
        "  else:\n",
        "      print(f\"No se encontró el directorio: {source_path}\")"
      ]
    },
    {
      "cell_type": "code",
      "execution_count": null,
      "metadata": {
        "id": "N3qfcGaEjzBT"
      },
      "outputs": [],
      "source": [
        "def save_file(exp_name, source_path, destination_path):\n",
        "  if not os.path.exists(destination_path):\n",
        "        os.makedirs(destination_path)\n",
        "\n",
        "  if os.path.exists(destination_path):\n",
        "\n",
        "      shutil.copy2(os.path.join(source_path, exp_name), os.path.join(destination_path, exp_name)) # copia archivos\n",
        "      print(f\"Checkpoints guardados en: {destination_path}\")\n",
        "  else:\n",
        "      print(f\"No se encontró el directorio: {src_path}\")"
      ]
    },
    {
      "cell_type": "markdown",
      "metadata": {
        "id": "_D8esC7hjsLa"
      },
      "source": [
        "#### Obtener checkpoints desde Google Drive al Colab"
      ]
    },
    {
      "cell_type": "markdown",
      "metadata": {
        "id": "DFR9htHxdOGy"
      },
      "source": [
        "#### Guardar experimentos en Google Drive"
      ]
    },
    {
      "cell_type": "code",
      "execution_count": null,
      "metadata": {
        "id": "V3MwZ2Pre1lX",
        "colab": {
          "base_uri": "https://localhost:8080/"
        },
        "outputId": "d46623f6-e1fa-48ca-d0b5-4ee7e5ce216d"
      },
      "outputs": [
        {
          "output_type": "stream",
          "name": "stdout",
          "text": [
            "/content\n",
            "README.dataset.txt   test\t      valid\n",
            "README.roboflow.txt  train\t      x-ray-baggage-anomaly-detection.zip\n",
            "sample_data\t     train_augmented  yolov5\n"
          ]
        }
      ],
      "source": [
        "%cd /content/\n",
        "!ls"
      ]
    },
    {
      "cell_type": "code",
      "execution_count": null,
      "metadata": {
        "colab": {
          "base_uri": "https://localhost:8080/"
        },
        "id": "bbi2LCf-Pqd3",
        "outputId": "2f00d8dc-56fc-4a85-cf75-2ac8b6527423"
      },
      "outputs": [
        {
          "output_type": "stream",
          "name": "stdout",
          "text": [
            "Drive already mounted at /content/drive; to attempt to forcibly remount, call drive.mount(\"/content/drive\", force_remount=True).\n",
            "✔ Inicio copiado en: /content/drive/MyDrive/yolov5_checkpoints/yolov5m_augmented_clase2_batch32_epoch50_exp_with_new_augmentation/\n",
            "✔ Checkpoints guardados en: /content/drive/MyDrive/yolov5_checkpoints/yolov5m_augmented_clase2_batch32_epoch50_exp_with_new_augmentation/\n"
          ]
        }
      ],
      "source": [
        "from google.colab import drive\n",
        "import shutil\n",
        "import os\n",
        "\n",
        "# 1. Montar Google Drive\n",
        "drive.mount('/content/drive')\n",
        "\n",
        "# copiar experimento al drive\n",
        "copy_directorio('/content/yolov5/runs/train/yolov5m_augmented_clase2_batch32_epoch50_exp5', '/content/drive/MyDrive/yolov5_checkpoints/yolov5m_augmented_clase2_batch32_epoch50_exp_with_new_augmentation/')\n",
        "\n",
        "# copy_directorio('/content/drive/MyDrive/yolov5_checkpoints/yolov5s_augmented_clase2_batch32_epoch50_v1/', '/content/yolov5/runs/train/yolov5s_augmented_clase2_batch32_epoch50_v1')\n",
        "# copy_directorio('/content/drive/MyDrive/yolov5_checkpoints/yolov5m_augmented_clase2_batch32_epoch50_v1_1_50/', '/content/yolov5/runs/train/yolov5m_augmented_clase2_batch32_epoch50_v1_1_50')\n"
      ]
    },
    {
      "cell_type": "markdown",
      "metadata": {
        "id": "KR8WtVRrh4uF"
      },
      "source": [
        "## Visualizar `Métricas Globales` para ambos modelos (mAP, precisión, etc.)"
      ]
    },
    {
      "cell_type": "code",
      "execution_count": null,
      "metadata": {
        "id": "6N1ZJJ92h8eK",
        "colab": {
          "base_uri": "https://localhost:8080/",
          "height": 782
        },
        "outputId": "00c99294-d242-4cc1-8d9b-4c5309e5f759"
      },
      "outputs": [
        {
          "output_type": "display_data",
          "data": {
            "text/plain": [
              "<Figure size 1600x800 with 4 Axes>"
            ],
            "image/png": "[encoded data removed]"
          },
          "metadata": {}
        }
      ],
      "source": [
        "import pandas as pd\n",
        "import matplotlib.pyplot as plt\n",
        "\n",
        "def comparar_experimentos(exp1, exp2):\n",
        "    def cargar_resultados(exp):\n",
        "        path = f'runs/train/{exp}/results.csv'\n",
        "        df = pd.read_csv(path)\n",
        "        df.columns = df.columns.str.strip()  # Limpiar espacios\n",
        "        return df\n",
        "\n",
        "    df1 = cargar_resultados(exp1)\n",
        "    df2 = cargar_resultados(exp2)\n",
        "\n",
        "    metrics = ['metrics/mAP_0.5', 'metrics/mAP_0.5:0.95', 'metrics/precision', 'metrics/recall']\n",
        "    titulos = ['mAP@0.5', 'mAP@0.5:0.95', 'Precisión', 'Recall']\n",
        "\n",
        "    plt.figure(figsize=(16, 8))\n",
        "    for i, (metric, titulo) in enumerate(zip(metrics, titulos)):\n",
        "        plt.subplot(2, 2, i + 1)\n",
        "        plt.plot(df1[metric], label='Yolo5l', linewidth=2)\n",
        "        plt.plot(df2[metric], label='Yolo5m', linewidth=2, linestyle='--')\n",
        "        plt.title(titulo)\n",
        "        plt.xlabel('Epoch')\n",
        "        plt.ylabel(metric.split('/')[-1])\n",
        "        plt.grid(True)\n",
        "        plt.legend()\n",
        "    exp1_title = 'Yolo5l augmented clase 2'\n",
        "    exp2_title = 'Yolo5m augmented clase 2'\n",
        "\n",
        "    plt.suptitle(f'Comparación de experimentos: {exp1_title} vs {exp2_title}', fontsize=16)\n",
        "    plt.tight_layout(rect=[0, 0.03, 1, 0.95])\n",
        "    plt.show()\n",
        "\n",
        "experiments = ['yolov5l_augmented_clase2_batch32_epoch50_exp1', 'yolov5m_augmented_clase2_batch32_epoch50_exp5']\n",
        "\n",
        "comparar_experimentos(experiments[0], experiments[1])"
      ]
    },
    {
      "cell_type": "markdown",
      "source": [
        "### **Análisis Comparativo: YOLOv5m vs YOLOv5s**\n",
        "\n",
        "#### **1. Métricas Globales**\n",
        "| **Métrica**       | **YOLOv5m** | **YOLOv5s** | **Diferencia** |\n",
        "|-------------------|-------------|-------------|----------------|\n",
        "| **Precisión (P)** | 0.900       | 0.871       | +3.3% (m)      |\n",
        "| **Recall (R)**    | 0.841       | 0.836       | +0.5% (m)      |\n",
        "| **mAP@0.5**      | 0.875       | 0.858       | +1.7% (m)      |\n",
        "| **mAP@0.5:0.95** | 0.384       | 0.368       | +4.3% (m)      |\n",
        "| **Velocidad**     | 2.58 it/s   | 4.00 it/s   | +55% (s)       |\n",
        "\n",
        "#### **Vemos que**\n",
        "1. **YOLOv5m** supera a YOLOv5s en precisión (+3.3%) y mAP (+1.7-4.3%)\n",
        "2. **YOLOv5s** es un 55% más rápido (4.00 it/s vs 2.58 it/s)\n",
        "---\n",
        "\n",
        "#### **2. Análisis Detallado por Clase**\n",
        "\n",
        "\n",
        "**YOLOv5m**:\n",
        "\n",
        "| Class | Images | Instances | P     | R     | mAP50 | mAP50-95 |\n",
        "|-------|--------|-----------|-------|-------|-------|----------|\n",
        "| all   | 1766   | 1766      | 0.900 | 0.841 | 0.875 | 0.384    |\n",
        "| 0     | 1766   | 391       | 0.983 | 0.985 | 0.984 | 0.509    |\n",
        "| 1     | 1766   | 389       | 0.909 | 0.900 | 0.908 | 0.376    |\n",
        "| 2     | 1766   | 225       | 0.864 | 0.551 | 0.706 | 0.261    |\n",
        "| 3     | 1766   | 366       | 0.814 | 0.844 | 0.847 | 0.382    |\n",
        "| 4     | 1766   | 395       | 0.928 | 0.927 | 0.932 | 0.392    |\n",
        "\n",
        "**YOLOv5s**:\n",
        "\n",
        "| Class | Images | Instances | P     | R     | mAP50 | mAP50-95 |\n",
        "|-------|--------|-----------|-------|-------|-------|----------|\n",
        "| all   | 1766   | 1766      | 0.871 | 0.836 | 0.858 | 0.368    |\n",
        "| 0     | 1766   | 391       | 0.968 | 0.977 | 0.974 | 0.499    |\n",
        "| 1     | 1766   | 389       | 0.874 | 0.915 | 0.915 | 0.374    |\n",
        "| 2     | 1766   | 225       | 0.779 | 0.565 | 0.653 | 0.236    |\n",
        "| 3     | 1766   | 366       | 0.812 | 0.791 | 0.822 | 0.356    |\n",
        "| 4     | 1766   | 395       | 0.919 | 0.929 | 0.923 | 0.377    |\n",
        "\n",
        "---\n",
        "\n",
        "#### **De las tablas vemos que**\n",
        "1. **Clase 2** tiene bajo recall en ambos modelos (~55%)\n",
        "2. **Clases 0 y 4** muestran excelente rendimiento en ambos modelos\n",
        "3. **Clase 1** muestra `mAP50-95` bajo\n",
        "4. **Clase 3** precisión baja (81%).\n",
        "\n",
        "La clase de menor performance es la **Clase 2**\n",
        "#### Haciendo double click en la **Clase 2**\n",
        "\n",
        "| Métrica       | YOLOv5m | YOLOv5s | Diferencia |\n",
        "|--------------|---------|---------|------------|\n",
        "| Precisión (P) | 0.864   | 0.779   | +10.9%     |\n",
        "| Recall (R)    | 0.551   | 0.565   | -2.5%      |\n",
        "| mAP50        | 0.706   | 0.653   | +8.1%      |\n",
        "| mAP50-95     | 0.261   | 0.236   | +10.6%     |"
      ],
      "metadata": {
        "id": "QGROun0owihM"
      }
    },
    {
      "cell_type": "markdown",
      "source": [
        "-------------------------------------"
      ],
      "metadata": {
        "id": "JitdqBjBRt69"
      }
    },
    {
      "cell_type": "markdown",
      "source": [
        "## Pasos Siguientes\n",
        "- Determinar como podemos mejorar la performance de la **Clase 2**"
      ],
      "metadata": {
        "id": "tsmv_pV-3jub"
      }
    },
    {
      "cell_type": "markdown",
      "source": [
        "Modifcando el augmentation para la **clase 2** con\n",
        "\n",
        "\n",
        "\n",
        "Pasamos de ~A.RandomScale(scale_limit=0.2, p=0.5)~ a `A.RandomScale(scale_limit=0.5, p=0.7)`\n",
        "\n",
        "~A.Rotate(limit=10, p=0.3)~ a `A.Rotate(limit=45, p=0.7)`\n",
        "Y agregamos\n",
        "`A.GridDropout(ratio=0.1, p=0.3)`\n",
        "\n",
        "Quedando la agumentation para la clase 2 de:\n",
        "\n",
        "```\n",
        " transform = A.Compose([\n",
        "        A.HorizontalFlip(p=0.5), # Voltea la imagen horizontalmente (espejo).\n",
        "        A.RandomScale(scale_limit=0.5, p=0.7), #  Escala la imagen aleatoriamente entre ±50% de su tamaño original.\n",
        "        A.Rotate(limit=45, p=0.7), # Rota la imagen hasta ±45 grados.\n",
        "        A.RandomBrightnessContrast(p=0.3), # Ajusta brillo y contraste aleatoriamente (30% de probabilidad).\n",
        "        A.Resize(height=416, width=416), # Redimensiona la imagen a 416x416\n",
        "        A.GridDropout(ratio=0.1, p=0.3),  # Oclusiones leves\n",
        "    ], bbox_params=A.BboxParams(format='yolo', label_fields=['class_labels']))\n",
        "\n",
        "```\n",
        "Obtenermos el siguiente resultado:\n",
        "\n",
        "Vemos que la la `clase 2` mejora el `Recall` considerablemente (pero pierde un pequeño porcentaje en `Precision`) ver detalles a continuacion:"
      ],
      "metadata": {
        "id": "3prkVGVW7lqZ"
      }
    },
    {
      "cell_type": "markdown",
      "source": [
        "### **Rendimiento por Clase - YOLOv5m con Aumentación Mejorada**\n",
        "\n",
        "### **Comparativa por Clase: Nuevo Experimento vs Baseline**\n",
        "\n",
        "| **Clase** | **Métrica**   | **exp (baseline)** | **Nuevo Experimento** | **Diferencia** |\n",
        "|-----------|---------------|---------------------|------------------------|----------------|\n",
        "| **0**     | Precisión (P) | 0.983               | 0.978                  | -0.5%          |\n",
        "|           | Recall (R)    | 0.985               | 0.980                  | -0.5%          |\n",
        "|           | mAP50         | 0.984               | 0.981                  | -0.3%          |\n",
        "| **1**     | Precisión (P) | 0.909               | 0.890                  | -2.1%          |\n",
        "|           | Recall (R)    | 0.900               | 0.918                  | **+2.0%**      |\n",
        "|           | mAP50         | 0.908               | 0.913                  | **+0.5%**      |\n",
        "| **2**     | Precisión (P) | 0.864               | 0.830                  | -3.9%          |\n",
        "|           | Recall (R)    | 0.551               | 0.629                  | **+14.2%**     |\n",
        "|           | mAP50         | 0.706               | 0.719                  | **+1.8%**      |\n",
        "| **3**     | Precisión (P) | 0.814               | 0.850                  | **+4.4%**      |\n",
        "|           | Recall (R)    | 0.844               | 0.831                  | -1.5%          |\n",
        "|           | mAP50         | 0.847               | 0.855                  | **+0.9%**      |\n",
        "| **4**     | Precisión (P) | 0.928               | 0.920                  | -0.9%          |\n",
        "|           | Recall (R)    | 0.927               | 0.929                  | +0.2%          |\n",
        "|           | mAP50         | 0.932               | 0.924                  | -0.9%          |\n",
        "\n",
        "**Conclusiones**\n",
        "- Clase 2 (la más problemática):\n",
        "  - **Recall mejoró +14.2%** (el avance más importante).\n",
        "  - La **precisión disminuyo 3.9%** menos que en el primer experimento.\n",
        "\n",
        "- `Clases estables (0 y 4)`:\n",
        "  - Variaciones mínimas (<1%).\n",
        "\n",
        "- Clase 1 y 3:\n",
        "  - Mejoraron en recall y mAP50, pero con disminucion en precisión.\n",
        "\n"
      ],
      "metadata": {
        "id": "Il88hAex7STi"
      }
    },
    {
      "cell_type": "markdown",
      "source": [
        "### Evaluar YOLO5L"
      ],
      "metadata": {
        "id": "YKS3H_K0XZZw"
      }
    },
    {
      "cell_type": "code",
      "source": [
        "!python train.py \\\n",
        "  --img 416 \\\n",
        "  --batch 32 \\\n",
        "  --epochs 50 \\\n",
        "  --data data.yaml \\\n",
        "  --weights yolov5l.pt \\\n",
        "  --cfg models/yolov5l.yaml \\\n",
        "  --cache \\\n",
        "  --name yolov5l_augmented_clase2_batch32_epoch50_exp1"
      ],
      "metadata": {
        "id": "k6s-UaL6XdNE"
      },
      "execution_count": null,
      "outputs": []
    },
    {
      "cell_type": "markdown",
      "source": [
        "### **Comparativa YOLOv5l vs YOLOv5m (Mejores Resultados)**\n",
        "\n",
        "| **Clase** | **Métrica**   | **YOLOv5m** | **YOLOv5l** | **Diferencia** |\n",
        "|-----------|---------------|--------------------|----------------------|----------------|\n",
        "| **All**   | Precisión (P) | 0.894              | 0.879                | -1.7%          |\n",
        "|           | Recall (R)    | 0.857              | 0.871                | **+1.6%**      |\n",
        "|           | mAP50         | 0.878              | 0.886                | **+0.9%**      |\n",
        "|           | mAP50-95      | 0.386              | 0.394                | **+2.1%**      |\n",
        "| **0**     | mAP50         | 0.981              | 0.984                | **+0.3%**      |\n",
        "| **1**     | mAP50         | 0.913              | 0.908                | -0.5%          |\n",
        "| **2**     | mAP50         | 0.719              | 0.735                | **+2.2%**      |\n",
        "| **3**     | mAP50         | 0.855              | 0.870                | **+1.8%**      |\n",
        "| **4**     | mAP50         | 0.924              | 0.932                | **+0.9%**      |\n",
        "\n",
        "**Conclusiones**:  \n",
        "\n",
        "- Mejora en `Clase 2` (la más crítica):\n",
        "  - mAP50: +2.2% (de 0.719 a 0.735).\n",
        "  - Recall: +4.3% (de 0.629 a 0.656).\n",
        "\n",
        "- Rendimiento Global:\n",
        "  - mAP50-95: +2.1% (mejor ajuste de bboxes).\n",
        "  - Recall: +1.6% (detecta más objetos en general).\n",
        "\n",
        "`Velocidad vs Precisión`:\n",
        "  - YOLOv5l es ~20% más lento (1.41 it/s vs 1.74 it/s de YOLOv5m).\n",
        "  - Aceptable si la precisión es prioritaria.\n"
      ],
      "metadata": {
        "id": "C27YRCsmy_9T"
      }
    }
  ],
  "metadata": {
    "accelerator": "GPU",
    "colab": {
      "gpuType": "T4",
      "machine_shape": "hm",
      "provenance": []
    },
    "kernelspec": {
      "display_name": "Python 3",
      "name": "python3"
    },
    "language_info": {
      "codemirror_mode": {
        "name": "ipython",
        "version": 3
      },
      "file_extension": ".py",
      "mimetype": "text/x-python",
      "name": "python",
      "nbconvert_exporter": "python",
      "pygments_lexer": "ipython3",
      "version": "3.8.10"
    },
    "vscode": {
      "interpreter": {
        "hash": "6a7e264b0185234a6d090a42ff6d01e38825180e16d17b7c5c45b22f8dc26b79"
      }
    }
  },
  "nbformat": 4,
  "nbformat_minor": 0
}